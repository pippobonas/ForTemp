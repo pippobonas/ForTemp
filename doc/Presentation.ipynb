{
 "cells": [
  {
   "cell_type": "markdown",
   "id": "68e1cbb0-002a-48f4-b644-4ba539f13847",
   "metadata": {},
   "source": [
    "# FOR TEMP\n",
    "## Obiettivi Prefissati\n",
    "- Monitoraggio in real time dalla temperatura a bassa quota\n",
    "- Previsione a breve termine della temperatura a bassa quota\n",
    "- Acquisizione dei dati necessari al funzionamento senza obbligo alla sottoscrizione di servizi a pagamento"
   ]
  },
  {
   "cell_type": "markdown",
   "id": "f5e8a11d",
   "metadata": {},
   "source": [
    "## Cos'è ForTemp\n",
    "\n",
    "ForTemp è un progetto che sfrutta tecnologie distribuite per il monitoraggio dei dati meteorologici e per la previsione a breve termine (1h) della temperatura a bassa quota (2m).  \n",
    "I dati provengono da dataset eterogenei che forniscono metriche diverse:  \n",
    "- Da ERA5 Single Level si ottengono, ad esempio, medie satellitari su una griglia con risoluzione di circa 32 km.  \n",
    "- Tramite l'API Current Weather di OpenWeather è possibile accedere a dati puntuali provenienti da varie stazioni.\n",
    "\n",
    "L'interpolazione dei dati permette di creare un modello che, nella modalità batch, sfrutta i dati storici di ERA5 Single Level, mentre per l'analisi in tempo reale impiega i valori offerti da OpenWeather per prevedere la temperatura a bassa quota.  \n",
    "Il modello, pur essendo stato addestrato su dati medi storici e testato con misurazioni in tempo reale, riesce a generare previsioni puntuali. Tuttavia, per ottimizzarne le stime e verificarne l'efficacia nell'approccio ibrido, sono necessarie ulteriori analisi e sperimentazioni.\n",
    "\n",
    "ForTemp offre due modalità d'uso:  \n",
    "1. Utilizzo immediato tramite un modello preaddestrato basato sui dati storici di ERA5 Single Level.  \n",
    "2. Modalità (beta) per addestrare un modello personalizzato in base al proprio bound di coordinate, utilizzando sempre i dati di ERA5 Single Level.  \n",
    "\n",
    "Indipendentemente dalla modalità scelta, il modello richiede una fase di warm-up (circa 4 ore) prima di iniziare a generare previsioni in tempo reale.\n"
   ]
  },
  {
   "cell_type": "markdown",
   "id": "6f878cb2-eb0b-4727-af3d-559f5429ac5b",
   "metadata": {},
   "source": [
    "##  API richieste per il funzionamento\n",
    "\n",
    "### OpenWeather  \n",
    "OpenWeather è un'azienda che fornisce dati meteorologici attraverso API basate su cloud. Offre previsioni del tempo, dati storici e analisi climatiche utilizzando modelli meteorologici avanzati e dati raccolti da satelliti, radar e stazioni meteorologiche. Le API fornite gratuitamente (con limite di richieste mensili) previa registrazione:\n",
    "- Current weather API\n",
    "- GeoCoding API\n",
    "\n",
    "### OpenElevationAPI \n",
    "Open-Elevation è un servizio open-source che fornisce dati sull'altitudine di un punto geografico basandosi su coordinate (latitudine e longitudine).Open-Elevation si basa su dati pubblici e può essere usato gratuitamente con un limite di richieste per il piano base senza registrazione.\n",
    "\n",
    "### CDS \n",
    "Il ECMWF (European Centre for Medium-Range Weather Forecasts) è un'organizzazione intergovernativa che fornisce previsioni del tempo globali e dati climatici avanzati, con particolare attenzione alle previsioni a medio e lungo termine.\n",
    "Il CDS (Climate Data Store) è la piattaforma online gestita da ECMWF del Copernicus Climate Change Service (C3S)  che permette di accedere gratuitamente a una vasta gamma di dati climatici e meteorologici, inclusi quelli di ERA5, sotto licenza ECMWF.\n",
    "I dataset utilizzati nel modello al fine del training sono:\n",
    "- ERA5/ERA5T Single Level\n"
   ]
  },
  {
   "cell_type": "markdown",
   "id": "31203761-e87b-4e8d-ac26-918a5214027a",
   "metadata": {},
   "source": [
    "## Tecnologie utilizzate\n",
    "\n",
    "- Script Python\n",
    "- Docker , docker compose\n",
    "- Logstash\n",
    "- Kafka \n",
    "- Kafka Streaming\n",
    "- Spark Structured Stream\n",
    "- Spark\n",
    "- ElasticSearch\n",
    "- Kibana\n",
    "- Crond"
   ]
  },
  {
   "cell_type": "markdown",
   "id": "529820e8",
   "metadata": {},
   "source": [
    "![Alt text ](image/pipeline.png)"
   ]
  },
  {
   "cell_type": "markdown",
   "id": "e4a2b7a5",
   "metadata": {},
   "source": [
    "## Come funziona \n"
   ]
  },
  {
   "cell_type": "markdown",
   "id": "f41bdd4c",
   "metadata": {},
   "source": [
    "\n",
    "### [Opzionale] Addestramento modello\n",
    "- Download grib dataset da era5 single level e pressure level:\n",
    "    - scrivendosi i json delle richieste ed in seguito utilizzando script Python per il download del dataset da ecwma cds\n",
    "    - oppure tramite web interface all'indirizzo: https://cds.climate.copernicus.eu/datasets/reanalysis-era5-single-levels?tab=download\n",
    "- script Python per la conversione del dataset da ecwma cds (.grib) in .csv\n",
    "- Spark per il training della regressione lineare"
   ]
  },
  {
   "cell_type": "markdown",
   "id": "e5592170",
   "metadata": {
    "editable": true,
    "slideshow": {
     "slide_type": ""
    },
    "tags": []
   },
   "source": [
    "\n",
    "\n",
    "### Modello pre-addestrato\n",
    "- Dati utilizzati:\n",
    "    Dati proventienti da ERA5/ERA5T per la zona: \"37.7, 14.5, 37.3, 15.3\" per l'arco temporale che procede dal 1-1-2020 al 31-12-2024\n",
    "\n",
    "- Modello utilizzato:\n",
    "    Machine learning in Regressione lineare"
   ]
  },
  {
   "cell_type": "markdown",
   "id": "4b2777fe",
   "metadata": {},
   "source": [
    "### Pipeline di Monitoraggio con modello pre-addestrato per il forecast\n",
    "- tool python che consente di:\n",
    "    - aggiungere città da monitorare\n",
    "    - aggiungere costante altitudine alle città ottenuta da OpenElevation\n",
    "    - ottenere variabili metereologiche ottenute da OpenWeather, convertirle nel formato appropriato alla pipeline ed mandarle ad uno specifico server \n",
    "- Logstash: ingestion manager per kafka ed Elastick\n",
    "- Kafka: Sistema di messaggistica distribuibile e scalabile in realtime\n",
    "- Kafka Stream: Utillizzato per aggregare i dati ricevuti. In questa fase di worm up avviene un'aggregazione dei dati in finestre di 4 ore\n",
    "- Spark Structured Stream: Utilizzato per l'elaborazione dei messaggi aggregati in un modello di regressione lineare per ottenere il target temperaturatura futura\n",
    "- ElastickSearch: Indicizzazione dei dati\n",
    "- Kibana: Presentazione indici\n"
   ]
  },
  {
   "cell_type": "markdown",
   "id": "d5787931-bf70-48c8-8dfb-4d1613dbbc9f",
   "metadata": {},
   "source": [
    "## Utilizzi reali\n",
    "\n",
    "Nel campo ove la temperatura è cruciale con la regolazione manuale di riscaldamenti e refrigeratori per la diminuizione degli impatti economici ed ambientali ; come in ospedali, serre ma anche ove non è cruciale come case e infrastrutture fisse ad alto spreco di rendimento"
   ]
  },
  {
   "cell_type": "markdown",
   "id": "9a6c756b-2ff5-443d-972e-343a49e67699",
   "metadata": {},
   "source": [
    "## Possibili miglioramenti futuri\n",
    "\n",
    "- inseririre nuovi processi per il download  da ecwma e training di tali dati per ottenere sempre un modello che utilizza dati storici più recenti \n",
    "- integrazione con input in real time da cabina metereologica homesafe al posto di openweather.\n",
    "- integrazione in output con un sistema di notificazione per l'accensione o spegnimento di impianti.\n",
    "- distribuzione dei server con una orchestrazione e robustezza migliore utilizzando tecnoligie come K8s,Terraform ecc."
   ]
  },
  {
   "cell_type": "markdown",
   "id": "86b7cc63-3a0b-4bd9-9a2b-d7bd307f3324",
   "metadata": {},
   "source": [
    "# Presentazione DEMO\n",
    "![Alt text](image/docker_meme.webp)\n",
    "## Architettura:\n",
    "\n",
    "- ### Google Cloud Plattaform\n",
    "    - Compute Engine #1\n",
    "        - e2-standard-2 (2 vCPUs, 8 GB Memory)\n",
    "        - 20gb Disco permanente con carico bilanciato\n",
    "        - rete Google Premium, con ipforward disabilitato\n",
    "        - firewall role non abilitato a condividere estreriormente\n",
    "        - Comunicazione tramite tuneling ssh \n",
    "- ### Moodello\n",
    "    - Pre-addestrato \n",
    "- ### Città Analizzate\n",
    "    - Catania\n",
    "    - Roma\n",
    "    - Aosta\n",
    "    - Palermo\n",
    "    - Torino\n",
    "    - Napoli\n",
    "    - Milano\n",
    "    - Trieste\n",
    "    - Firenze\n",
    "    - Genova\n",
    "    - Bari\n",
    "    - Cagliari\n",
    "    - Venezia\n",
    "    - Bolzano\n",
    "    - Sanremo\n",
    "    - Bologna\n",
    "\n"
   ]
  },
  {
   "cell_type": "markdown",
   "id": "d3e1257f",
   "metadata": {},
   "source": [
    "## Credits\n",
    "\n",
    "CDS\n",
    "\n",
    "    The model of linear regression is generated using Copernicus Climate Change Service information 2020-2024 . Neither the European Commission nor ECMWF is responsible for any use that may be made of the Copernicus information or data it contains.\n",
    "\n",
    "    Citing the data:\n",
    "\n",
    "    Hersbach, H., Bell, B., Berrisford, P., Biavati, G., Horányi, A., Muñoz Sabater, J., Nicolas, J., Peubey, C., Radu, R., Rozum, I., Schepers, D., Simmons, A., Soci, C., Dee, D., Thépaut, J-N. (2023): ERA5 hourly data on single levels from 1940 to present. Copernicus Climate Change Service (C3S) Climate Data Store (CDS), DOI: 10.24381/cds.adbb2d47 (Accessed on 17-2-2025)\n",
    "\n",
    "    Citing the web catalogue entry:\n",
    "\n",
    "    Copernicus Climate Change Service, Climate Data Store, (2023): ERA5 hourly data on single levels from 1940 to present. Copernicus Climate Change Service (C3S) Climate Data Store (CDS), DOI: 10.24381/cds.adbb2d47 (Accessed on 17-2-2025)\n",
    "\n",
    "### Docs\n",
    "\n",
    "- OpenWeather API Current Weather https://openweathermap.org/current\n",
    "- Openweather API GeoCoding https://openweathermap.org/current#geocoding\n",
    "- OpenElevation API Docs https://open-elevation.com/\n",
    "- CDS API https://cds.climate.copernicus.eu/how-to-api\n",
    "- EcCodes https://confluence.ecmwf.int/display/ECC/documentation\n",
    "- Pandas :https://pandas.pydata.org/docs/\n",
    "- Docker https://docs.docker.com/\n",
    "- Docker compose https://docs.docker.com/compose/\n",
    "- Kafka https://kafka.apache.org/documentation/\n",
    "- Kafka Stream https://kafka.apache.org/documentation/streams/\n",
    "- Spark https://archive.apache.org/dist/spark/docs/3.4.4/\n",
    "- Spark sstructured streaming https://spark.apache.org/docs/latest/structured-streaming-programming-guide.html\n",
    "- PySpark https://spark.apache.org/docs/latest/api/python/index.html\n",
    "- Crond https://www.linux.org/docs/man8/cron.html\n",
    "- Logstash https://www.elastic.co/guide/en/logstash/current/index.html\n",
    "- Elasticksearch https://www.elastic.co/guide/en/elasticsearch/reference/current/index.html\n",
    "- Kibana https://www.elastic.co/guide/en/kibana/current/index.html\n",
    "\n",
    "\n"
   ]
  }
 ],
 "metadata": {
  "kernelspec": {
   "display_name": "usr",
   "language": "python",
   "name": "python3"
  },
  "language_info": {
   "codemirror_mode": {
    "name": "ipython",
    "version": 3
   },
   "file_extension": ".py",
   "mimetype": "text/x-python",
   "name": "python",
   "nbconvert_exporter": "python",
   "pygments_lexer": "ipython3",
   "version": "3.13.0"
  }
 },
 "nbformat": 4,
 "nbformat_minor": 5
}
